{
 "cells": [
  {
   "cell_type": "code",
   "execution_count": 4,
   "id": "2519a9ce-ddb6-4267-8b80-942807ad01ac",
   "metadata": {},
   "outputs": [],
   "source": [
    "from tuulUtils.facedetector import FaceDetector\n",
    "from tuulUtils.imutils import resize\n",
    "import cv2\n",
    "\n",
    "face_cascade_path = 'haarcascades/haarcascade_frontalface_alt.xml'\n",
    "#eyes_cascade_path = 'haarcascade_eye_tree_eyeglasses'\n",
    "\n",
    "fd = FaceDetector(face_cascade_path)\n",
    "\n",
    "cap = cv2.VideoCapture(2)\n",
    "#fourcc = cv2.VideoWriter_fourcc('M','J','P','G')\n",
    "#out = cv2.VideoWriter('output.avi',fourcc, 20.0, (320,480))\n",
    "\n",
    "if cap.isOpened() == False:\n",
    "    print(\"Error File or Camera Not Found\")\n",
    "\n",
    "while True:\n",
    "    (grabbed, frame) = cap.read()\n",
    "    \n",
    "    if frame is None:\n",
    "        print('--(!) No captured frame -- Break!')\n",
    "        break\n",
    "    frame = resize(frame, height=320, width=480)\n",
    "    gray = cv2.cvtColor(frame, cv2.COLOR_BGR2GRAY)\n",
    "    faceRects = fd.detect(gray, scaleFactor=1.05, minNeighbors=5, minSize=(30,30))\n",
    "    frameClone = frame.copy()\n",
    "    for (fx, fy, fw, fh) in faceRects:\n",
    "        cv2.rectangle(frameClone, (fx,fy), (fx+fw, fy+fh), (0, 255, 0), 2)\n",
    "        cv2.putText(frameClone, 'Face Detected', (fx, fy-10), cv2.FONT_HERSHEY_SIMPLEX, 0.5, (36,255,12), 2)\n",
    "    cv2.imshow('Face', frameClone)\n",
    "    #out.write(frameClone)\n",
    "    if cv2.waitKey(1) & 0xFF == ord('q'):\n",
    "        break\n",
    "\n",
    "cap.release()\n",
    "#out.release()\n",
    "cv2.destroyAllWindows()"
   ]
  }
 ],
 "metadata": {
  "kernelspec": {
   "display_name": "Python 3",
   "language": "python",
   "name": "python3"
  },
  "language_info": {
   "codemirror_mode": {
    "name": "ipython",
    "version": 3
   },
   "file_extension": ".py",
   "mimetype": "text/x-python",
   "name": "python",
   "nbconvert_exporter": "python",
   "pygments_lexer": "ipython3",
   "version": "3.8.8"
  }
 },
 "nbformat": 4,
 "nbformat_minor": 5
}
